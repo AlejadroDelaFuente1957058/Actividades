{
  "nbformat": 4,
  "nbformat_minor": 0,
  "metadata": {
    "colab": {
      "provenance": []
    },
    "kernelspec": {
      "name": "python3",
      "display_name": "Python 3"
    },
    "language_info": {
      "name": "python"
    }
  },
  "cells": [
    {
      "cell_type": "markdown",
      "source": [
        "A2.- Ejercicios en Python\n",
        "**Nombre**: Jose Alejandro De la Fuente Rodriguez\n",
        "**Matricula**: 1957058           \n",
        "**Hora**: N1"
      ],
      "metadata": {
        "id": "UAFYT8PDjnPk"
      }
    },
    {
      "cell_type": "code",
      "source": [
        "# Ejercicio 1\n",
        "# Escribe un programa que solicite al usuario un número y que indique si es par o impar.\n",
        "\n",
        "numero = int(input(\"Ingrese un número: \"))\n",
        "\n",
        "# Determinar si el número es par o impar\n",
        "if numero % 2 == 0:\n",
        "    print(f\"{numero} es un número par.\")\n",
        "else:\n",
        "    print(f\"{numero} es un número impar.\")"
      ],
      "metadata": {
        "id": "2y87EzlZ4ubO",
        "colab": {
          "base_uri": "https://localhost:8080/"
        },
        "outputId": "d142d2a0-edc2-4f66-e0db-8e59833f6f1d"
      },
      "execution_count": 5,
      "outputs": [
        {
          "output_type": "stream",
          "name": "stdout",
          "text": [
            "Ingrese un número: 2\n",
            "2 es un número par.\n"
          ]
        }
      ]
    },
    {
      "cell_type": "code",
      "source": [
        "# Ejercicio 2\n",
        "#Escribe un programa que tome una lista de números ingresados por el usuario y muestre la lista en orden inverso.\n",
        "\n",
        "entrada_usuario = input(\"Ingrese una lista de números separados por espacios: \")\n",
        "\n",
        "# Dividir la entrada del usuario en una lista de números\n",
        "lista = entrada_usuario.split()\n",
        "\n",
        "# Transformar los números de cadena a enteros\n",
        "lista = [int(numero) for numero in lista]\n",
        "\n",
        "# Revertir la lista de números\n",
        "numeros_inversos = lista[::-1]\n",
        "\n",
        "# Mostrar la lista en orden inverso\n",
        "print(\"Lista en orden inverso:\", numeros_inversos)"
      ],
      "metadata": {
        "id": "mubQq7t5463y",
        "colab": {
          "base_uri": "https://localhost:8080/"
        },
        "outputId": "4268ebf5-807d-479e-9d79-b35002b713cc"
      },
      "execution_count": 4,
      "outputs": [
        {
          "output_type": "stream",
          "name": "stdout",
          "text": [
            "Ingrese una lista de números separados por espacios: 1 2 3 4\n",
            "Lista en orden inverso: [4, 3, 2, 1]\n"
          ]
        }
      ]
    },
    {
      "cell_type": "code",
      "source": [
        "# Ejercicio 3\n",
        "# Juego de adivinar el número: Crea un programa que genere un número aleatorio entre 1 y 100, y luego\n",
        "# le pida al usuario que adivine el número. El programa debe proporcionar pistas al usuario si el número\n",
        "# es mayor o menor que el número objetivo, y seguir solicitando un nuevo intento hasta que el usuario adivine correctamente.\n",
        "\n",
        "import random\n",
        "\n",
        "# Generar un número aleatorio entre 1 y 100\n",
        "numero_objetivo = random.randint(1, 100)\n",
        "\n",
        "# Inicializar un contador de intentos\n",
        "intentos = 0\n",
        "\n",
        "print(\"Bienvenido al juego de adivinar el número entre 1 y 100.\")\n",
        "\n",
        "# Comenzar el bucle del juego\n",
        "while True:\n",
        "    # Solicitar al usuario que ingrese un número\n",
        "    intento = int(input(\"Introduce un número: \"))\n",
        "\n",
        "    # Incrementar el contador de intentos\n",
        "    intentos += 1\n",
        "\n",
        "    # Comparar el intento del usuario con el número objetivo\n",
        "    if intento < numero_objetivo:\n",
        "        print(\"El número objetivo es mayor. Intenta de nuevo.\")\n",
        "    elif intento > numero_objetivo:\n",
        "        print(\"El número objetivo es menor. Intenta de nuevo.\")\n",
        "    else:\n",
        "        print(f\"Muchas felicidades, ¡adivinaste el número {numero_objetivo} en tan solo {intentos} intentos!\")\n",
        "        break"
      ],
      "metadata": {
        "id": "tGHEHK5j5Tik",
        "colab": {
          "base_uri": "https://localhost:8080/"
        },
        "outputId": "3d35a41c-9d2d-4bbb-bca8-df126468c388"
      },
      "execution_count": 6,
      "outputs": [
        {
          "output_type": "stream",
          "name": "stdout",
          "text": [
            "Bienvenido al juego de adivinar el número entre 1 y 100.\n",
            "Introduce un número: 52\n",
            "El número objetivo es menor. Intenta de nuevo.\n",
            "Introduce un número: 34\n",
            "El número objetivo es menor. Intenta de nuevo.\n",
            "Introduce un número: 17\n",
            "El número objetivo es mayor. Intenta de nuevo.\n",
            "Introduce un número: 26\n",
            "El número objetivo es mayor. Intenta de nuevo.\n",
            "Introduce un número: 32\n",
            "El número objetivo es menor. Intenta de nuevo.\n",
            "Introduce un número: 30\n",
            "El número objetivo es menor. Intenta de nuevo.\n",
            "Introduce un número: 29\n",
            "Muchas felicidades, ¡adivinaste el número 29 en tan solo 7 intentos!\n"
          ]
        }
      ]
    },
    {
      "cell_type": "code",
      "source": [
        "# Ejercicio 4\n",
        "# Ejercicio de cálculo de números primos en un rango dado: Escribe un programa que\n",
        "# solicite al usuario un rango de números y muestre todos los números primos dentro de ese rango.\n",
        "# Función para verificar si un número es primo\n",
        "\n",
        "def es_primo(numero):\n",
        "    if numero <= 1:\n",
        "        return False\n",
        "    elif numero <= 3:\n",
        "        return True\n",
        "    elif numero % 2 == 0 or numero % 3 == 0:\n",
        "        return False\n",
        "    i = 5\n",
        "    while i * i <= numero:\n",
        "        if numero % i == 0 or numero % (i + 2) == 0:\n",
        "            return False\n",
        "        i += 6\n",
        "    return True\n",
        "\n",
        "# Pedir al usuario que ingrese el rango de números\n",
        "inicio = int(input(\"Ingrese el número inicial del rango: \"))\n",
        "fin = int(input(\"Ingrese el número final del rango: \"))\n",
        "\n",
        "print(f\"Números primos en el rango de {inicio} a {fin}:\")\n",
        "\n",
        "# Buscar y mostrar los números primos en el rango\n",
        "for numero in range(inicio, fin + 1):\n",
        "    if es_primo(numero):\n",
        "        print(numero)"
      ],
      "metadata": {
        "colab": {
          "base_uri": "https://localhost:8080/"
        },
        "id": "f2JGJk8j5xOw",
        "outputId": "773d710b-b95d-4449-eca1-6b2376c59ed2"
      },
      "execution_count": null,
      "outputs": [
        {
          "output_type": "stream",
          "name": "stdout",
          "text": [
            "Ingrese el número inicial del rango: 1\n",
            "Ingrese el número final del rango: 10\n",
            "Números primos en el rango de 1 a 10:\n",
            "2\n",
            "3\n",
            "5\n",
            "7\n"
          ]
        }
      ]
    }
  ]
}